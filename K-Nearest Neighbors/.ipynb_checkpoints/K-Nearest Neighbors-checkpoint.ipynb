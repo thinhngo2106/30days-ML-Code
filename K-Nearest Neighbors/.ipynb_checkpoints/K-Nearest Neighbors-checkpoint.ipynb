{
 "cells": [
  {
   "cell_type": "markdown",
   "id": "8e238744",
   "metadata": {},
   "source": [
    "**K-Nearest Neighbors** là 1 thuật toán phân cụm, thuật toán KNN yêu cầu cần phải nhớ tất cả điểm dữ liệu huấn luyện. Tuy nhiên,K-nearest neighbor là một trong những thuật toán supervised-learning đơn giản nhất. Nhãn của điểm dữ liệu mới có thể được suy ra từ K điểm dữ liệu gần nhất. Nhãn đó có thể được quyết định theo quy tắc bỏ phiếu (voting) trong K điểm gần nhất. "
   ]
  },
  {
   "cell_type": "code",
   "execution_count": 1,
   "id": "7f0939a8",
   "metadata": {},
   "outputs": [],
   "source": [
    "import numpy as np\n",
    "import matplotlib.pyplot as plt\n",
    "from sklearn import neighbors, datasets"
   ]
  },
  {
   "cell_type": "code",
   "execution_count": 2,
   "id": "e7bcdcde",
   "metadata": {},
   "outputs": [],
   "source": [
    "from scipy.spatial import distance"
   ]
  },
  {
   "cell_type": "code",
   "execution_count": null,
   "id": "53f67649",
   "metadata": {},
   "outputs": [],
   "source": [
    "def euclid(z, x):\n",
    "    d = z - x\n",
    "    return np.sum(d*d)\n",
    "    "
   ]
  },
  {
   "cell_type": "code",
   "execution_count": 12,
   "id": "e882d98f",
   "metadata": {},
   "outputs": [],
   "source": [
    "def dist_pp(z ,x):\n",
    "    '''\n",
    "    calculate Euclid distance between two vectors.\n",
    "    '''\n",
    "    return distance.euclidean(z, x)\n",
    "    \n",
    "    \n",
    "def dis_ps_naive(z, X):\n",
    "    '''\n",
    "    calculate list distance of vector z with matrix X.\n",
    "    '''\n",
    "    N = X.shape[0]\n",
    "    list_distance = [0]*(N)\n",
    "    \n",
    "    for i in range(N):\n",
    "        list_distance[i] = dist_pp(z, X[i])\n",
    "    return list_distance\n",
    "    "
   ]
  },
  {
   "cell_type": "code",
   "execution_count": 13,
   "id": "0b40f1aa",
   "metadata": {},
   "outputs": [],
   "source": [
    "# Khởi tạo các giá trị ban đầu\n",
    "d, N = 100, 100\n",
    "X = np.random.rand(N, d)\n",
    "z = np.random.rand(d)"
   ]
  },
  {
   "cell_type": "code",
   "execution_count": 9,
   "id": "a5be86b8",
   "metadata": {},
   "outputs": [],
   "source": [
    "p = dis_ps_naive(z, X)"
   ]
  },
  {
   "cell_type": "code",
   "execution_count": 10,
   "id": "89138eb8",
   "metadata": {},
   "outputs": [
    {
     "data": {
      "text/plain": [
       "[4.393841124576268,\n",
       " 3.9273428985584498,\n",
       " 4.11440755577772,\n",
       " 3.624691632608605,\n",
       " 4.18849372535332,\n",
       " 4.178660371579154,\n",
       " 4.232803730149536,\n",
       " 3.9191245547607356,\n",
       " 3.937348946568904,\n",
       " 3.9981191255564643,\n",
       " 3.980212683296756,\n",
       " 4.096255590053164,\n",
       " 4.239590680636023,\n",
       " 4.043589576610803,\n",
       " 4.42049480576203,\n",
       " 4.083842393540364,\n",
       " 4.276068495507203,\n",
       " 4.144401192818747,\n",
       " 3.977317434654771,\n",
       " 3.9659961019663754,\n",
       " 3.988854876453291,\n",
       " 4.109523377571745,\n",
       " 4.188205888640822,\n",
       " 4.176831009602969,\n",
       " 4.077107713518246,\n",
       " 4.202455707617886,\n",
       " 4.008710722156475,\n",
       " 3.9096763178814533,\n",
       " 3.84690228762189,\n",
       " 4.166802447962253,\n",
       " 3.9161840142797053,\n",
       " 4.093950778860267,\n",
       " 4.371136917287014,\n",
       " 4.513849347832975,\n",
       " 3.8760838513550144,\n",
       " 3.8221031500788136,\n",
       " 3.570777326093548,\n",
       " 4.432714430692956,\n",
       " 3.997118014391317,\n",
       " 4.176348859837196,\n",
       " 4.245494147201538,\n",
       " 4.167788657547164,\n",
       " 4.092208028991415,\n",
       " 3.9744069263303645,\n",
       " 4.067768594464083,\n",
       " 4.054532697499192,\n",
       " 4.04423529516735,\n",
       " 4.1969864391815515,\n",
       " 4.323417451339596,\n",
       " 4.0236331725444,\n",
       " 4.223277638496735,\n",
       " 4.1599171377071364,\n",
       " 4.007413673275509,\n",
       " 3.934477600724952,\n",
       " 3.889918978482285,\n",
       " 3.628179548856527,\n",
       " 4.078244050174194,\n",
       " 3.9985616505189547,\n",
       " 3.8150831704018984,\n",
       " 4.08217281335052,\n",
       " 4.008988591707614,\n",
       " 3.847778578147724,\n",
       " 4.332638585338333,\n",
       " 4.09006340891049,\n",
       " 3.9214556933567866,\n",
       " 4.21140104532509,\n",
       " 4.092252746968484,\n",
       " 4.08528459568414,\n",
       " 4.131484242123395,\n",
       " 3.7518867959289173,\n",
       " 3.962242047640143,\n",
       " 4.133475726064575,\n",
       " 3.6769729275968452,\n",
       " 4.119765206153783,\n",
       " 3.7786081487685226,\n",
       " 4.018749205755909,\n",
       " 3.9880078685876397,\n",
       " 4.170420597169992,\n",
       " 4.2607885676531465,\n",
       " 3.95669901151681,\n",
       " 4.080160520842229,\n",
       " 4.234689638863117,\n",
       " 3.7657162188993283,\n",
       " 4.168404886705159,\n",
       " 3.758088845636633,\n",
       " 3.769570600979132,\n",
       " 4.267864825712749,\n",
       " 4.091088050290879,\n",
       " 4.086570617374002,\n",
       " 4.060662855468171,\n",
       " 4.170827626468314,\n",
       " 3.9385568802345277,\n",
       " 4.297422531943285,\n",
       " 4.089285055436835,\n",
       " 3.7196433084228504,\n",
       " 4.446383957525777,\n",
       " 3.9109856336120363,\n",
       " 4.183061562058997,\n",
       " 3.8844577225192856,\n",
       " 3.7792176964690984]"
      ]
     },
     "execution_count": 10,
     "metadata": {},
     "output_type": "execute_result"
    }
   ],
   "source": []
  }
 ],
 "metadata": {
  "kernelspec": {
   "display_name": "Python 3 (ipykernel)",
   "language": "python",
   "name": "python3"
  },
  "language_info": {
   "codemirror_mode": {
    "name": "ipython",
    "version": 3
   },
   "file_extension": ".py",
   "mimetype": "text/x-python",
   "name": "python",
   "nbconvert_exporter": "python",
   "pygments_lexer": "ipython3",
   "version": "3.7.10"
  }
 },
 "nbformat": 4,
 "nbformat_minor": 5
}
