{
 "cells": [
  {
   "cell_type": "markdown",
   "id": "8e238744",
   "metadata": {},
   "source": [
    "**K-Nearest Neighbors** là 1 thuật toán phân cụm, thuật toán KNN yêu cầu cần phải nhớ tất cả điểm dữ liệu huấn luyện. Tuy nhiên,K-nearest neighbor là một trong những thuật toán supervised-learning đơn giản nhất. Nhãn của điểm dữ liệu mới có thể được suy ra từ K điểm dữ liệu gần nhất. Nhãn đó có thể được quyết định theo quy tắc bỏ phiếu (voting) trong K điểm gần nhất. "
   ]
  },
  {
   "cell_type": "code",
   "execution_count": 2,
   "id": "7f0939a8",
   "metadata": {},
   "outputs": [],
   "source": [
    "import numpy as np\n",
    "import matplotlib.pyplot as plt\n",
    "from sklearn import neighbors, datasets"
   ]
  },
  {
   "cell_type": "code",
   "execution_count": 3,
   "id": "e7bcdcde",
   "metadata": {},
   "outputs": [],
   "source": [
    "from scipy.spatial import distance"
   ]
  },
  {
   "cell_type": "code",
   "execution_count": 4,
   "id": "53f67649",
   "metadata": {},
   "outputs": [],
   "source": [
    "def euclid(z, x):\n",
    "    d = z - x\n",
    "    return np.sum(d*d)\n",
    "    "
   ]
  },
  {
   "cell_type": "code",
   "execution_count": 21,
   "id": "e882d98f",
   "metadata": {},
   "outputs": [],
   "source": [
    "def dist_pp(z ,x):\n",
    "    '''\n",
    "    calculate Euclid distance between two vectors.\n",
    "    '''\n",
    "    return distance.euclidean(z, x)\n",
    "    \n",
    "    \n",
    "def get_neighbors(z, X, k):\n",
    "    '''\n",
    "    calculate list distance of vector z with matrix X.\n",
    "    \n",
    "    params:\n",
    "    z: vector z\n",
    "    X: matrix X\n",
    "    k: number of neighbor\n",
    "    \n",
    "    return neighbors of z\n",
    "    '''\n",
    "    N = X.shape[0]\n",
    "    list_distance = list()\n",
    "    \n",
    "    for i in range(N):\n",
    "        distance = dist_pp(z, X[i])\n",
    "        list_distance.append((X[i], distance))\n",
    "    list_distance.sort(key = lambda tup: tup[1])\n",
    "    neighbors = list()\n",
    "    for j in range(k):\n",
    "        neighbors.append(list_distance[j][0])\n",
    "    return neighbors\n",
    "    "
   ]
  },
  {
   "cell_type": "code",
   "execution_count": 75,
   "id": "3ec381fb",
   "metadata": {},
   "outputs": [],
   "source": [
    "def predict(z, X, y, k):\n",
    "    \"\"\"\n",
    "    make a classification predict of z \n",
    "    params:\n",
    "    z: vector z\n",
    "    X: matrix X\n",
    "    y: label of matrix X\n",
    "    k: number of neighbor\n",
    "    \n",
    "    return classification predict of z\n",
    "    \n",
    "    \"\"\"\n",
    "    \n",
    "    neighbors = get_neighbors(z, X, k)\n",
    "    values = np.isin(X, neighbors).all(axis=1)\n",
    "    output_values = list(y[values])\n",
    "    prediction = max(set(output_values), key=output_values.count)\n",
    "    return prediction\n",
    "    \n",
    "    "
   ]
  },
  {
   "cell_type": "code",
   "execution_count": 30,
   "id": "0b40f1aa",
   "metadata": {},
   "outputs": [],
   "source": [
    "# Khởi tạo các giá trị ban đầu\n",
    "d, N = 4, 100\n",
    "X = np.random.rand(N, d)\n",
    "z = np.random.rand(d)"
   ]
  },
  {
   "cell_type": "code",
   "execution_count": 32,
   "id": "a5be86b8",
   "metadata": {},
   "outputs": [],
   "source": [
    "p = get_neighbors(z, X, 5)"
   ]
  },
  {
   "cell_type": "code",
   "execution_count": 36,
   "id": "82701841",
   "metadata": {},
   "outputs": [],
   "source": [
    "label = np.random.randint(2, size=N)"
   ]
  },
  {
   "cell_type": "code",
   "execution_count": 76,
   "id": "5217fca7",
   "metadata": {},
   "outputs": [],
   "source": [
    "check = predict(z, X, label, 5)"
   ]
  },
  {
   "cell_type": "code",
   "execution_count": 85,
   "id": "5da4913b",
   "metadata": {},
   "outputs": [],
   "source": [
    "class KNN:\n",
    "    def __init__(self):\n",
    "        return \n",
    "    \n",
    "    \n",
    "    def fit(self, X, y):\n",
    "        self.X = X\n",
    "        self.y = y\n",
    "\n",
    "        \n",
    "    @staticmethod    \n",
    "    def distance(z ,x):\n",
    "        \"\"\"\n",
    "        calculate Euclid distance between two vectors.\n",
    "        \"\"\"\n",
    "        return distance.euclidean(z, x)\n",
    "    \n",
    "    @staticmethod  \n",
    "    def get_neighbors(z, X, k):\n",
    "        \"\"\"    \n",
    "        calculate list distance of vector z with matrix X.\n",
    "\n",
    "        params:\n",
    "        z: vector z\n",
    "        X: matrix X\n",
    "        k: number of neighbor\n",
    "\n",
    "        return neighbors of z\n",
    "        \"\"\"\n",
    "\n",
    "        N = X.shape[0]\n",
    "        list_distance = list()\n",
    "\n",
    "        for i in range(N):\n",
    "            distance = dist_pp(z, X[i])\n",
    "            list_distance.append((X[i], distance))\n",
    "        list_distance.sort(key = lambda tup: tup[1])\n",
    "        neighbors = list()\n",
    "        for j in range(k):\n",
    "            neighbors.append(list_distance[j][0])\n",
    "        return neighbors\n",
    "    \n",
    "    def predict(self, z, k):\n",
    "        \"\"\"\n",
    "        make a classification predict of z \n",
    "        params:\n",
    "        z: vector z\n",
    "        X: matrix X\n",
    "        y: label of matrix X\n",
    "        k: number of neighbor\n",
    "\n",
    "        return classification predict of z\n",
    "\n",
    "        \"\"\"\n",
    "\n",
    "        neighbors = get_neighbors(z, self.X, k)\n",
    "        values = np.isin(self.X, neighbors).all(axis=1)\n",
    "        output_values = list(self.y[values])\n",
    "        prediction = max(set(output_values), key=output_values.count)\n",
    "        return prediction\n",
    "    "
   ]
  },
  {
   "cell_type": "code",
   "execution_count": 86,
   "id": "39e312b0",
   "metadata": {},
   "outputs": [],
   "source": [
    "Knn = KNN() "
   ]
  },
  {
   "cell_type": "code",
   "execution_count": 88,
   "id": "cddba24a",
   "metadata": {},
   "outputs": [],
   "source": [
    "Knn.fit(X, label)"
   ]
  },
  {
   "cell_type": "code",
   "execution_count": 89,
   "id": "a2e4526b",
   "metadata": {},
   "outputs": [
    {
     "data": {
      "text/plain": [
       "1"
      ]
     },
     "execution_count": 89,
     "metadata": {},
     "output_type": "execute_result"
    }
   ],
   "source": [
    "Knn.predict(z, 5)"
   ]
  }
 ],
 "metadata": {
  "kernelspec": {
   "display_name": "Python 3 (ipykernel)",
   "language": "python",
   "name": "python3"
  },
  "language_info": {
   "codemirror_mode": {
    "name": "ipython",
    "version": 3
   },
   "file_extension": ".py",
   "mimetype": "text/x-python",
   "name": "python",
   "nbconvert_exporter": "python",
   "pygments_lexer": "ipython3",
   "version": "3.7.10"
  }
 },
 "nbformat": 4,
 "nbformat_minor": 5
}
