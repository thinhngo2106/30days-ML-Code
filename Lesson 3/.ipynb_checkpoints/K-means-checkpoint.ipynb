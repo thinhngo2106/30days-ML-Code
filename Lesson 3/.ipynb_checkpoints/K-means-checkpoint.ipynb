{
 "cells": [
  {
   "cell_type": "markdown",
   "id": "df5477dc",
   "metadata": {},
   "source": [
    "## 1. Giới thiệu \n",
    "K-means là 1 thuật toán phân cụm. K-means cũng là 1 thuật toán Unsupervised learning (học không giám sát). Trong thuật toán này, chúng ta sẽ không biết được nhãn dữ liệu, mà chúng ta sẽ biết tập dữ liệu sẽ thành các cụm dữ liệu khác nhau (những cụm dữ liệu này có tính chất giống nhau)."
   ]
  }
 ],
 "metadata": {
  "kernelspec": {
   "display_name": "Python 3 (ipykernel)",
   "language": "python",
   "name": "python3"
  },
  "language_info": {
   "codemirror_mode": {
    "name": "ipython",
    "version": 3
   },
   "file_extension": ".py",
   "mimetype": "text/x-python",
   "name": "python",
   "nbconvert_exporter": "python",
   "pygments_lexer": "ipython3",
   "version": "3.7.10"
  }
 },
 "nbformat": 4,
 "nbformat_minor": 5
}
