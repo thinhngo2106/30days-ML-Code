{
 "cells": [
  {
   "cell_type": "code",
   "execution_count": 119,
   "metadata": {},
   "outputs": [],
   "source": [
    "from __future__ import division, print_function, unicode_literals\n",
    "import numpy as np \n",
    "import matplotlib.pyplot as plt\n",
    "from sklearn import datasets"
   ]
  },
  {
   "cell_type": "code",
   "execution_count": 207,
   "metadata": {},
   "outputs": [
    {
     "data": {
      "image/png": "[encoded data removed]",
      "text/plain": [
       "<Figure size 432x288 with 1 Axes>"
      ]
     },
     "metadata": {
      "needs_background": "light"
     },
     "output_type": "display_data"
    }
   ],
   "source": [
    "# height (cm)\n",
    "X = np.array([[147, 150, 153, 158, 163, 165, 168, 170, 173, 175, 178, 180, 183]]).T\n",
    "# weight (kg)\n",
    "y = np.array([ 49, 50, 51,  54, 58, 59, 60, 62, 63, 64, 66, 67, 68])\n",
    "# Visualize data \n",
    "plt.plot(X, y, 'ro')\n",
    "plt.xlabel('Height (cm)')\n",
    "plt.ylabel('Weight (kg)')\n",
    "plt.show()"
   ]
  },
  {
   "cell_type": "code",
   "execution_count": 208,
   "metadata": {},
   "outputs": [
    {
     "data": {
      "text/plain": [
       "array([49, 50, 51, 54, 58, 59, 60, 62, 63, 64, 66, 67, 68])"
      ]
     },
     "execution_count": 208,
     "metadata": {},
     "output_type": "execute_result"
    }
   ],
   "source": [
    "y"
   ]
  },
  {
   "cell_type": "code",
   "execution_count": 201,
   "metadata": {},
   "outputs": [],
   "source": [
    "X, y = datasets.make_regression(n_samples = 100, n_features=1, noise = 20, random_state= 42)"
   ]
  },
  {
   "cell_type": "code",
   "execution_count": 203,
   "metadata": {},
   "outputs": [
    {
     "data": {
      "text/plain": [
       "array([ 6.26872020e+01, -2.37639807e+01, -2.56867658e+01,  7.93645654e+00,\n",
       "       -1.54754945e+01,  3.60939588e+01, -4.07942011e+01, -1.08230392e+01,\n",
       "        2.14147070e+01,  2.27986221e+01,  3.72243519e+01,  8.95671291e+01,\n",
       "        4.15511282e+01,  1.50182931e+01, -6.18755179e+01,  2.14036667e+01,\n",
       "       -8.91095732e+01,  1.86789111e+01,  1.42342255e+01, -1.26703865e+02,\n",
       "        1.28230663e+01,  1.56947595e+00, -3.92917960e+01,  1.89495791e+01,\n",
       "        8.41206595e+01,  6.79742116e+01,  3.03278631e+00,  6.99430659e+00,\n",
       "       -4.27287124e+01, -7.42680785e+01,  2.56654717e+01,  4.33623631e+01,\n",
       "        6.37427951e-01, -2.12731725e+01, -4.93961082e+01, -1.62402661e+01,\n",
       "       -2.79165108e+01,  7.14971057e-02,  6.84660288e+01,  1.56708970e+01,\n",
       "        3.04845974e+01, -3.47452883e+01,  6.02517239e+01, -1.97578606e+01,\n",
       "       -5.47504290e+00,  4.54439761e+00, -1.57871471e+01, -4.95365695e+01,\n",
       "        3.32660331e+01,  8.90108319e+00,  1.86401737e+00,  1.44156261e+01,\n",
       "       -5.02194329e+01,  1.16377367e+02,  3.47094962e+01,  3.52202177e+01,\n",
       "        2.61801170e+01,  9.19841868e+00, -7.94234764e+00, -8.77552036e+01,\n",
       "        4.08053520e+01, -9.57175421e+00, -4.26829789e+01, -3.83537133e+01,\n",
       "       -6.79315585e+01,  5.52391241e+01, -8.51836143e+01, -8.85146082e+01,\n",
       "       -2.33917541e+01,  6.01127448e+01,  5.49026697e+01, -6.73810749e+01,\n",
       "       -6.94804227e+01, -3.34875689e+01, -9.04192654e+00,  4.70569444e+01,\n",
       "        6.50617430e+01,  1.21467251e+01, -6.16054619e+00, -3.82298560e+01,\n",
       "       -6.30622728e+01,  2.00928481e+01, -1.11407180e+01, -4.24582125e+01,\n",
       "        5.52478809e+01,  7.58367776e+00, -1.99673935e+01, -1.04320387e+01,\n",
       "       -3.27216034e+01, -1.15540412e+01, -6.40802952e+01,  8.31130643e+01,\n",
       "        1.81646383e+01, -2.16344842e+01, -2.63624697e+01,  7.88540285e+01,\n",
       "       -8.24664085e+01, -4.77573368e+01,  1.16842396e+01, -3.02497879e+01])"
      ]
     },
     "execution_count": 203,
     "metadata": {},
     "output_type": "execute_result"
    }
   ],
   "source": [
    "y"
   ]
  },
  {
   "cell_type": "markdown",
   "metadata": {},
   "source": [
    "## Simple Linear Regression"
   ]
  },
  {
   "cell_type": "markdown",
   "metadata": {},
   "source": [
    "Linear Regression:\n",
    "\n",
    "**Y = wX + b**\n",
    "\n",
    "Y --> Dependent Variable\n",
    "\n",
    "X --> Independent Variable\n",
    "\n",
    "w --> weight\n",
    "\n",
    "b --> bias"
   ]
  },
  {
   "cell_type": "markdown",
   "metadata": {},
   "source": [
    "**Gradient Descent:**\n",
    "\n",
    "Gradient Descent is an optimization algorithm used for minimizing the loss function in various machine learning algorithms. It is used for updating the parameters of the learning model.\n",
    "\n",
    "w  =  w - α*dw\n",
    "\n",
    "b  =  b - α*db"
   ]
  },
  {
   "cell_type": "code",
   "execution_count": 209,
   "metadata": {},
   "outputs": [],
   "source": [
    "class Linear_Regression():\n",
    "    def __init__(self, learning_rate, no_of_iterations):\n",
    "        self.learning_rate = learning_rate\n",
    "        self.no_of_iterations = no_of_iterations\n",
    "        \n",
    "    def fit(self, X, Y):\n",
    "        \n",
    "        self.m, self.n = X.shape  # number of rows & columns\n",
    "        # initiating the weight and bias \n",
    "        self.w = np.zeros(self.n)\n",
    "        self.b = 0\n",
    "        self.X = X\n",
    "        self.Y = Y\n",
    "        \n",
    "        for i in range(self.no_of_iterations):\n",
    "            self.update_weights()\n",
    "            \n",
    "    def update_weights(self):\n",
    "        Y_prediction = self.predict(self.X)\n",
    "        \n",
    "        dw = - (2 * (self.X.T).dot(self.Y - Y_prediction)) / self.m\n",
    "        db = - 2 * np.sum(self.Y - Y_prediction)/self.m\n",
    "    \n",
    "        self.w = self.w - self.learning_rate*dw\n",
    "        self.b = self.b - self.learning_rate*db\n",
    "    def predict(self, X):\n",
    "        return X.dot(self.w) + self.b\n",
    "\n",
    "    "
   ]
  },
  {
   "cell_type": "code",
   "execution_count": 229,
   "metadata": {},
   "outputs": [],
   "source": [
    "linear_reg = Linear_Regression(0.001, 2)\n",
    "linear_reg.fit(X,y)"
   ]
  },
  {
   "cell_type": "code",
   "execution_count": 235,
   "metadata": {},
   "outputs": [
    {
     "name": "stdout",
     "output_type": "stream",
     "text": [
      "[-156681.09628615 -159878.53953011 -163075.98277406 -168405.05484731\n",
      " -173734.12692057 -175865.75574987 -179063.19899382 -181194.82782312\n",
      " -184392.27106708 -186523.89989638 -189721.34314033 -191852.97196963\n",
      " -195050.41521359]\n"
     ]
    }
   ],
   "source": [
    "y_pred =linear_reg.predict(X)\n",
    "print(y_pred)"
   ]
  },
  {
   "cell_type": "code",
   "execution_count": 212,
   "metadata": {},
   "outputs": [],
   "source": [
    "def mse(y_true, y_pred):\n",
    "    return np.mean((y_true-y_pred)**2)"
   ]
  },
  {
   "cell_type": "code",
   "execution_count": 234,
   "metadata": {},
   "outputs": [
    {
     "name": "stdout",
     "output_type": "stream",
     "text": [
      "0.21835353820129746\n"
     ]
    }
   ],
   "source": [
    "print(mse(y, y_pred))"
   ]
  },
  {
   "cell_type": "code",
   "execution_count": 214,
   "metadata": {},
   "outputs": [
    {
     "name": "stdout",
     "output_type": "stream",
     "text": [
      "(13, 1)\n",
      "(13,)\n",
      "(13,)\n"
     ]
    }
   ],
   "source": [
    "print(X.shape)\n",
    "print(y.shape)\n",
    "print(y_pred.shape)"
   ]
  },
  {
   "cell_type": "code",
   "execution_count": 150,
   "metadata": {},
   "outputs": [],
   "source": [
    "X_test = np.array([[149, 152, 157, 160]]).T"
   ]
  },
  {
   "cell_type": "code",
   "execution_count": 151,
   "metadata": {},
   "outputs": [],
   "source": [
    "y_test = linear_reg.predict(X_test)"
   ]
  },
  {
   "cell_type": "code",
   "execution_count": 218,
   "metadata": {},
   "outputs": [
    {
     "data": {
      "image/png": "[encoded data removed]",
      "text/plain": [
       "<Figure size 432x288 with 1 Axes>"
      ]
     },
     "metadata": {
      "needs_background": "light"
     },
     "output_type": "display_data"
    }
   ],
   "source": [
    "plt.plot(X, y, 'ro')\n",
    "plt.plot(X, y_pred)\n",
    "plt.xlabel('Height (cm)')\n",
    "plt.ylabel('Weight (kg)')\n",
    "plt.show()"
   ]
  },
  {
   "cell_type": "code",
   "execution_count": 152,
   "metadata": {},
   "outputs": [],
   "source": [
    "from sklearn.linear_model import LinearRegression"
   ]
  },
  {
   "cell_type": "code",
   "execution_count": 231,
   "metadata": {},
   "outputs": [
    {
     "data": {
      "text/plain": [
       "LinearRegression()"
      ]
     },
     "execution_count": 231,
     "metadata": {},
     "output_type": "execute_result"
    }
   ],
   "source": [
    "lr_sk = LinearRegression()\n",
    "lr_sk.fit(X,y)"
   ]
  },
  {
   "cell_type": "code",
   "execution_count": 238,
   "metadata": {},
   "outputs": [],
   "source": [
    "y_pred = lr_sk.predict(X)"
   ]
  },
  {
   "cell_type": "code",
   "execution_count": 239,
   "metadata": {},
   "outputs": [
    {
     "name": "stdout",
     "output_type": "stream",
     "text": [
      "0.21835353820129746\n"
     ]
    }
   ],
   "source": [
    "print(mse(y, y_pred))"
   ]
  },
  {
   "cell_type": "code",
   "execution_count": 240,
   "metadata": {},
   "outputs": [
    {
     "data": {
      "text/plain": [
       "array([48.4677192 , 50.14533409, 51.82294897, 54.61897378, 57.41499859,\n",
       "       58.53340851, 60.2110234 , 61.32943332, 63.00704821, 64.12545813,\n",
       "       65.80307302, 66.92148294, 68.59909783])"
      ]
     },
     "execution_count": 240,
     "metadata": {},
     "output_type": "execute_result"
    }
   ],
   "source": [
    "y_pred"
   ]
  },
  {
   "cell_type": "code",
   "execution_count": 233,
   "metadata": {},
   "outputs": [
    {
     "data": {
      "image/png": "[encoded data removed]",
      "text/plain": [
       "<Figure size 432x288 with 1 Axes>"
      ]
     },
     "metadata": {
      "needs_background": "light"
     },
     "output_type": "display_data"
    }
   ],
   "source": [
    "plt.plot(X, y, 'ro')\n",
    "plt.plot(X, y_pred)\n",
    "plt.xlabel('Height (cm)')\n",
    "plt.ylabel('Weight (kg)')\n",
    "plt.show()"
   ]
  }
 ],
 "metadata": {
  "kernelspec": {
   "display_name": "Python 3",
   "language": "python",
   "name": "python3"
  },
  "language_info": {
   "codemirror_mode": {
    "name": "ipython",
    "version": 3
   },
   "file_extension": ".py",
   "mimetype": "text/x-python",
   "name": "python",
   "nbconvert_exporter": "python",
   "pygments_lexer": "ipython3",
   "version": "3.8.5"
  }
 },
 "nbformat": 4,
 "nbformat_minor": 4
}
